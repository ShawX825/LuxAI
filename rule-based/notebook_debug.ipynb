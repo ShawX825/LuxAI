{
 "cells": [
  {
   "cell_type": "code",
   "execution_count": 1,
   "id": "altered-thumb",
   "metadata": {},
   "outputs": [],
   "source": [
    "%load_ext autoreload\n",
    "%autoreload 2"
   ]
  },
  {
   "cell_type": "code",
   "execution_count": 5,
   "id": "beautiful-musician",
   "metadata": {},
   "outputs": [],
   "source": [
    "import pickle\n",
    "from agent import game_logic\n",
    "\n",
    "str_step = \"100\"\n",
    "with open('snapshots/observation-{}.pkl'.format(str_step), 'rb') as handle:\n",
    "    observation = pickle.load(handle)\n",
    "with open('snapshots/game_state-{}.pkl'.format(str_step), 'rb') as handle:\n",
    "    game_state = pickle.load(handle)\n",
    "with open('snapshots/missions-{}.pkl'.format(str_step), 'rb') as handle:\n",
    "    missions = pickle.load(handle)"
   ]
  },
  {
   "cell_type": "code",
   "execution_count": 6,
   "id": "vital-selection",
   "metadata": {},
   "outputs": [
    {
     "name": "stdout",
     "output_type": "stream",
     "text": [
      "research 9 4\n",
      "plan mission adaptative u_4 (7, 4) -> (7, 4)\n",
      "plan mission adaptative u_33 (9, 1) -> (9, 1)\n",
      "plan mission adaptative u_8 (8, 7) -> (8, 6)\n",
      "plan mission adaptative u_38 (10, 6) -> (10, 6)\n",
      "plan mission adaptative u_26 (8, 4) -> (6, 4)\n",
      "plan mission adaptative u_31 (9, 4) -> (9, 4)\n",
      "plan mission adaptative u_32 (9, 4) -> (9, 4)\n",
      "plan mission adaptative u_36 (8, 5) -> (4, 4)\n",
      "attempting action for u_4 (7, 4)\n",
      "location reached and make action u_4 (7, 4)\n",
      "attempting action for u_8 (8, 7)\n",
      "make move u_8 (8, 7) s\n",
      "attempting action for u_24 (8, 3)\n",
      "make move u_24 (8, 3) s\n",
      "attempting action for u_26 (8, 4)\n",
      "make move u_26 (8, 4) n\n",
      "attempting action for u_31 (9, 4)\n",
      "location reached and make action u_31 (9, 4)\n",
      "attempting action for u_32 (9, 4)\n",
      "location reached and make action u_32 (9, 4)\n",
      "attempting action for u_33 (9, 1)\n",
      "location reached and make action u_33 (9, 1)\n",
      "attempting action for u_36 (8, 5)\n",
      "attempting action for u_38 (10, 6)\n",
      "location reached and make action u_38 (10, 6)\n",
      "attempting action for u_36 (8, 5)\n",
      "actions_by_cities ['r 9 4']\n",
      "actions_by_units ['m u_8 s', 'm u_24 s', 'm u_26 n']\n",
      "mission_annotations ['dl 2 8 2 6', 'dx 2 6', 'dl 8 3 8 5', 'dx 8 5', 'dl 9 7 7 6', 'dx 7 6', 'dl 7 4 7 4', 'dx 7 4', 'dl 9 1 9 1', 'dx 9 1', 'dl 8 7 8 6', 'dx 8 6', 'dl 10 6 10 6', 'dx 10 6', 'dl 8 4 6 4', 'dx 6 4', 'dl 9 4 9 4', 'dx 9 4', 'dl 9 4 9 4', 'dx 9 4', 'dl 8 5 4 4', 'dx 4 4', \"dst 'U:11 C:11 L:2/1'\"]\n",
      "movement_annotations ['dl 8 7 8 8', 'dl 8 3 8 4', 'dl 8 4 8 3']\n"
     ]
    }
   ],
   "source": [
    "_ = game_logic(game_state, missions, DEBUG=True)"
   ]
  },
  {
   "cell_type": "code",
   "execution_count": 7,
   "id": "comic-checkout",
   "metadata": {},
   "outputs": [
    {
     "name": "stdout",
     "output_type": "stream",
     "text": [
      "[[  0   0   0   0   0   0   0   0   0   0   0   0]\n",
      " [  0   0   0   0   0   0   0   0   0   0   0   0]\n",
      " [  0   0   0   0   0   0   0   0   0   0   0   0]\n",
      " [  0   0   0   0   0  50  50   0   0   0   0   0]\n",
      " [  0   0   0   5  50 150 150  50   5   0   0   0]\n",
      " [  0   0   5   5 105 150 150 105  10   5   0   0]\n",
      " [  0   0   0  55  50 100 100  55  60   5   0   0]\n",
      " [  0   0   0   0  50   0   0  50   5   0   0   0]\n",
      " [  0   0   0   0   0   0   0   0   0   0   0   0]\n",
      " [  0   0   0   0   0   0   0   0   0   0   0   0]\n",
      " [  0   0   0   0   0   0   0   0   0   0   0   0]\n",
      " [  0   0   0   0   0   0   0   0   0   0   0   0]]\n"
     ]
    }
   ],
   "source": [
    "import numpy as np\n",
    "print(np.array(game_state.convolved_rate_matrix))"
   ]
  },
  {
   "cell_type": "code",
   "execution_count": null,
   "id": "administrative-shelter",
   "metadata": {},
   "outputs": [],
   "source": []
  }
 ],
 "metadata": {
  "kernelspec": {
   "display_name": "Python 3",
   "language": "python",
   "name": "python3"
  },
  "language_info": {
   "codemirror_mode": {
    "name": "ipython",
    "version": 3
   },
   "file_extension": ".py",
   "mimetype": "text/x-python",
   "name": "python",
   "nbconvert_exporter": "python",
   "pygments_lexer": "ipython3",
   "version": "3.6.4"
  }
 },
 "nbformat": 4,
 "nbformat_minor": 5
}
